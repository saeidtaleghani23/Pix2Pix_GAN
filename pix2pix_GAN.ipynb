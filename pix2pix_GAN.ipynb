{
 "cells": [
  {
   "cell_type": "markdown",
   "metadata": {},
   "source": [
    "# Pix2Pix GAN\n",
    "### It's a type of cGAN where a preceding image serves as a condition for image generation such as translating one image into another.\n",
    "### For example, colorizing black and white photos, transforming satellite images into map routes."
   ]
  },
  {
   "cell_type": "code",
   "execution_count": null,
   "metadata": {},
   "outputs": [],
   "source": [
    "import "
   ]
  }
 ],
 "metadata": {
  "language_info": {
   "name": "python"
  }
 },
 "nbformat": 4,
 "nbformat_minor": 2
}
